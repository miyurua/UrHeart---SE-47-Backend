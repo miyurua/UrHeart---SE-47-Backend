{
 "cells": [
  {
   "cell_type": "markdown",
   "id": "0ef4dd45",
   "metadata": {},
   "source": [
    "### Importing all the libraries"
   ]
  },
  {
   "cell_type": "code",
   "execution_count": 1,
   "id": "b17d360b",
   "metadata": {},
   "outputs": [],
   "source": [
    "from skimage.io import imread\n",
    "from skimage import color\n",
    "from skimage.filters import threshold_otsu,gaussian\n",
    "from skimage.transform import resize\n",
    "import numpy\n",
    "from skimage.segmentation import slic\n",
    "from skimage.color import label2rgb\n",
    "\n",
    "import tensorflow as tf\n",
    "import numpy as np\n",
    "import glob\n",
    "from matplotlib import pyplot as plt\n",
    "from tensorflow.keras.utils import to_categorical\n",
    "from tensorflow.keras.models import Sequential\n",
    "from tensorflow.keras.layers import Dense"
   ]
  },
  {
   "cell_type": "markdown",
   "id": "d72daaa4",
   "metadata": {},
   "source": [
    "### Loading the trained model"
   ]
  },
  {
   "cell_type": "code",
   "execution_count": null,
   "id": "cd9b0e6b",
   "metadata": {},
   "outputs": [],
   "source": [
    "from tensorflow.keras.models import load_model\n",
    "model = load_model('NNmodel.h5')"
   ]
  },
  {
   "cell_type": "code",
   "execution_count": null,
   "id": "14318682",
   "metadata": {},
   "outputs": [],
   "source": [
    "import pickle\n",
    "pickle.dump(model, open(\"NNmodel.pkl\", \"wb\"))"
   ]
  },
  {
   "cell_type": "code",
   "execution_count": null,
   "id": "62f1ce65",
   "metadata": {},
   "outputs": [],
   "source": [
    "import pickle\n",
    "model3 = pickle.load(open('NNmodel.pkl', 'rb'))"
   ]
  },
  {
   "cell_type": "markdown",
   "id": "005de64a",
   "metadata": {},
   "source": [
    "### Loading the image file"
   ]
  },
  {
   "cell_type": "code",
   "execution_count": null,
   "id": "bcc1d5e2",
   "metadata": {},
   "outputs": [],
   "source": [
    "fig0 , ax0 = plt.subplots()\n",
    "fig0.set_size_inches(10, 10)\n",
    "\n",
    "imagename='PMI(172).jpg'\n",
    "image=imread('./Test_set/PMI/'+imagename)\n",
    "\n",
    "ax0.imshow(image)\n",
    "plt.show()"
   ]
  },
  {
   "cell_type": "markdown",
   "id": "eace4ebb",
   "metadata": {},
   "source": [
    "### Removing gridlines / Perform Threshholding, Binarization, Gaussian filtering"
   ]
  },
  {
   "cell_type": "code",
   "execution_count": null,
   "id": "54a288b7",
   "metadata": {},
   "outputs": [],
   "source": [
    "#importing gaussian filter and otsu threshold\n",
    "from skimage.filters import threshold_otsu,gaussian\n",
    "from skimage.transform import resize\n",
    "import numpy\n",
    "\n",
    "fig1 , ax1 = plt.subplots()\n",
    "\n",
    "fig1.set_size_inches(10, 10)\n",
    "\n",
    "#converting to gray scale\n",
    "grayscale = color.rgb2gray(image)\n",
    "\n",
    "#smoothing image\n",
    "blurred_image = gaussian(grayscale, sigma=0.7)\n",
    "\n",
    "#thresholding to distinguish foreground and background\n",
    "#using otsu thresholding for getting threshold value\n",
    "global_thresh = threshold_otsu(blurred_image)\n",
    "print(global_thresh)\n",
    "\n",
    "#creating binary image based on threshold\n",
    "binary_global = blurred_image < global_thresh\n",
    "binary_global = numpy.invert(binary_global)\n",
    "ax1.imshow(binary_global,cmap='gray')\n",
    "ax1.set_title(\"prossessed ECG\")\n",
    "ax1.axis('off')\n",
    "image = binary_global"
   ]
  },
  {
   "cell_type": "markdown",
   "id": "e8fe2700",
   "metadata": {},
   "source": [
    "### Dividing the ECG leads from 1-13"
   ]
  },
  {
   "cell_type": "code",
   "execution_count": null,
   "id": "17c8b045",
   "metadata": {},
   "outputs": [],
   "source": [
    "Lead_1 = image[300:600, 150:643]\n",
    "Lead_2 = image[300:600, 646:1135]\n",
    "Lead_3 = image[300:600, 1140:1625]\n",
    "Lead_4 = image[300:600, 1630:2125]\n",
    "Lead_5 = image[600:900, 150:643]\n",
    "Lead_6 = image[600:900, 646:1135]\n",
    "Lead_7 = image[600:900, 1140:1625]\n",
    "Lead_8 = image[600:900, 1630:2125]\n",
    "Lead_9 = image[900:1200, 150:643]\n",
    "Lead_10 = image[900:1200, 646:1135]\n",
    "Lead_11 = image[900:1200, 1140:1625]\n",
    "Lead_12 = image[900:1200, 1630:2125]\n",
    "Lead_13 = image[1250:1480, 150:2125]\n",
    "\n",
    "Leads=[Lead_1,Lead_2,Lead_3,Lead_4,Lead_5,Lead_6,Lead_7,Lead_8,Lead_9,Lead_10,Lead_11,Lead_12,Lead_13]"
   ]
  },
  {
   "cell_type": "code",
   "execution_count": null,
   "id": "247648d6",
   "metadata": {},
   "outputs": [],
   "source": [
    "from skimage.segmentation import slic\n",
    "from skimage.color import label2rgb\n",
    "\n",
    "#plotting lead 1-12\n",
    "fig2 , ax2 = plt.subplots(4,3)\n",
    "\n",
    "fig2.set_size_inches(20, 20)\n",
    "\n",
    "x_counter=0\n",
    "y_counter=0\n",
    "\n",
    "for x,y in enumerate(Leads[:len(Leads)-1]):\n",
    "    if (x+1)%3==0:\n",
    "        ax2[x_counter][y_counter].imshow(y, cmap=\"gray\")\n",
    "        ax2[x_counter][y_counter].axis('off')\n",
    "        ax2[x_counter][y_counter].set_title(\"Lead {}\".format(x+1))\n",
    "        x_counter+=1\n",
    "        y_counter=0\n",
    "    else:\n",
    "        ax2[x_counter][y_counter].imshow(y, cmap=\"gray\")\n",
    "        ax2[x_counter][y_counter].axis('off')\n",
    "        ax2[x_counter][y_counter].set_title(\"Lead {}\".format(x+1))\n",
    "        y_counter+=1\n",
    "\n",
    "#save preprocessed image\n",
    "fig2.savefig(imagename, dpi=72)"
   ]
  },
  {
   "cell_type": "markdown",
   "id": "cfb2f796",
   "metadata": {},
   "source": [
    "### Importing the pre processed image"
   ]
  },
  {
   "cell_type": "code",
   "execution_count": null,
   "id": "720c59f5",
   "metadata": {},
   "outputs": [],
   "source": [
    "image=tf.keras.preprocessing.image.load_img(imagename, color_mode='grayscale')\n",
    "image=np.array(image)\n",
    "image=np.invert(image)\n",
    "print(image.shape)"
   ]
  },
  {
   "cell_type": "markdown",
   "id": "11740984",
   "metadata": {},
   "source": [
    "### Reshape & Normalization"
   ]
  },
  {
   "cell_type": "code",
   "execution_count": null,
   "id": "856bc52c",
   "metadata": {},
   "outputs": [],
   "source": [
    "x_mean = 2.73714811267664\n",
    "x_std = 24.068791887587864\n",
    "epsilon = 1e-10\n",
    "input_reshaped = np.reshape(image, (1, 2073600))\n",
    "input_norm = (input_reshaped - x_mean) / (x_std + epsilon)"
   ]
  },
  {
   "cell_type": "markdown",
   "id": "ccc5413c",
   "metadata": {},
   "source": [
    "### Prediction"
   ]
  },
  {
   "cell_type": "code",
   "execution_count": null,
   "id": "32fab5b8",
   "metadata": {},
   "outputs": [],
   "source": [
    "prediction = model.predict(input_norm)\n",
    "pred = np.argmax(prediction[0])\n",
    "print(pred)\n",
    "if pred == 0:\n",
    "    print('Normal')\n",
    "elif pred == 1:\n",
    "    print('Most likely to have an abnormal heartbeat')\n",
    "elif pred == 2:\n",
    "    print('Most likely to have a Myocardial infaraction')\n",
    "elif pred == 3:\n",
    "    print('Most likely to have a history in Myocardial infaraction')"
   ]
  }
 ],
 "metadata": {
  "kernelspec": {
   "display_name": "Python 3 (ipykernel)",
   "language": "python",
   "name": "python3"
  },
  "language_info": {
   "codemirror_mode": {
    "name": "ipython",
    "version": 3
   },
   "file_extension": ".py",
   "mimetype": "text/x-python",
   "name": "python",
   "nbconvert_exporter": "python",
   "pygments_lexer": "ipython3",
   "version": "3.9.7"
  }
 },
 "nbformat": 4,
 "nbformat_minor": 5
}
